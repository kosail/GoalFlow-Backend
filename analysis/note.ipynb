{
 "cells": [
  {
   "cell_type": "code",
   "execution_count": 2,
   "id": "822df342",
   "metadata": {},
   "outputs": [],
   "source": [
    "import sqlite3\n",
    "import pandas as pd\n",
    "from sklearn.linear_model import LinearRegression\n",
    "from datetime import datetime\n",
    "\n",
    "conn = sqlite3.connect(\"../goalflow.db\")\n",
    "\n",
    "# Example: aggregate weekly balance changes\n",
    "query = \"\"\"\n",
    "SELECT \n",
    "    strftime('%Y-%W', datetime) AS week,\n",
    "    SUM(CASE WHEN origin_account IS NOT NULL THEN -amount ELSE amount END) AS net_flow\n",
    "FROM Transactions\n",
    "GROUP BY week\n",
    "ORDER BY week;\n",
    "\"\"\"\n",
    "df = pd.read_sql_query(query, conn)\n",
    "conn.close()\n",
    "\n"
   ]
  },
  {
   "cell_type": "code",
   "execution_count": 3,
   "id": "b139f036",
   "metadata": {},
   "outputs": [
    {
     "data": {
      "text/html": [
       "<div>\n",
       "<style scoped>\n",
       "    .dataframe tbody tr th:only-of-type {\n",
       "        vertical-align: middle;\n",
       "    }\n",
       "\n",
       "    .dataframe tbody tr th {\n",
       "        vertical-align: top;\n",
       "    }\n",
       "\n",
       "    .dataframe thead th {\n",
       "        text-align: right;\n",
       "    }\n",
       "</style>\n",
       "<table border=\"1\" class=\"dataframe\">\n",
       "  <thead>\n",
       "    <tr style=\"text-align: right;\">\n",
       "      <th></th>\n",
       "      <th>week</th>\n",
       "      <th>net_flow</th>\n",
       "    </tr>\n",
       "  </thead>\n",
       "  <tbody>\n",
       "    <tr>\n",
       "      <th>0</th>\n",
       "      <td>2025-35</td>\n",
       "      <td>2420.0</td>\n",
       "    </tr>\n",
       "    <tr>\n",
       "      <th>1</th>\n",
       "      <td>2025-36</td>\n",
       "      <td>-950.0</td>\n",
       "    </tr>\n",
       "    <tr>\n",
       "      <th>2</th>\n",
       "      <td>2025-37</td>\n",
       "      <td>1000.0</td>\n",
       "    </tr>\n",
       "  </tbody>\n",
       "</table>\n",
       "</div>"
      ],
      "text/plain": [
       "      week  net_flow\n",
       "0  2025-35    2420.0\n",
       "1  2025-36    -950.0\n",
       "2  2025-37    1000.0"
      ]
     },
     "execution_count": 3,
     "metadata": {},
     "output_type": "execute_result"
    }
   ],
   "source": [
    "df"
   ]
  },
  {
   "cell_type": "code",
   "execution_count": 4,
   "id": "28927dc0",
   "metadata": {},
   "outputs": [
    {
     "name": "stdout",
     "output_type": "stream",
     "text": [
      "Predicted next week's net flow: -128.34\n"
     ]
    },
    {
     "name": "stderr",
     "output_type": "stream",
     "text": [
      "c:\\Users\\ferlr\\Code\\hackmty\\GoalFlow-Backend\\venv\\Lib\\site-packages\\sklearn\\utils\\validation.py:2749: UserWarning: X does not have valid feature names, but LinearRegression was fitted with feature names\n",
      "  warnings.warn(\n"
     ]
    }
   ],
   "source": [
    "\n",
    "# Add lag features (previous week flow)\n",
    "df[\"prev_flow\"] = df[\"net_flow\"].shift(1)\n",
    "df.dropna(inplace=True)\n",
    "\n",
    "# Train a simple regression\n",
    "X = df[[\"prev_flow\"]]\n",
    "y = df[\"net_flow\"]\n",
    "\n",
    "model = LinearRegression().fit(X, y)\n",
    "\n",
    "# Forecast next week's flow\n",
    "predicted = model.predict([[df[\"net_flow\"].iloc[-1]]])[0]\n",
    "print(f\"Predicted next week's net flow: {predicted:.2f}\")"
   ]
  }
 ],
 "metadata": {
  "kernelspec": {
   "display_name": "venv",
   "language": "python",
   "name": "python3"
  },
  "language_info": {
   "codemirror_mode": {
    "name": "ipython",
    "version": 3
   },
   "file_extension": ".py",
   "mimetype": "text/x-python",
   "name": "python",
   "nbconvert_exporter": "python",
   "pygments_lexer": "ipython3",
   "version": "3.13.7"
  }
 },
 "nbformat": 4,
 "nbformat_minor": 5
}
